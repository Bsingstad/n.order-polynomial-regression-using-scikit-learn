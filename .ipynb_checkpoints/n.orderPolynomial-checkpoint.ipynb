{
 "cells": [
  {
   "cell_type": "code",
   "execution_count": 2,
   "metadata": {},
   "outputs": [
    {
     "name": "stdout",
     "output_type": "stream",
     "text": [
      "Ridge Mean Square Error:  0.011980407507001528\n",
      "Ridge R2-score:  0.9941312276211773\n",
      "Mean absolute error: 0.08\n",
      "------------------------------------\n"
     ]
    },
    {
     "data": {
      "image/png": "[encoded data removed]",
      "text/plain": [
       "<Figure size 432x288 with 1 Axes>"
      ]
     },
     "metadata": {},
     "output_type": "display_data"
    }
   ],
   "source": [
    "import numpy as np\n",
    "from sklearn.linear_model import LinearRegression\n",
    "from sklearn.preprocessing import PolynomialFeatures\n",
    "from random import random, seed \n",
    "from sklearn.pipeline import make_pipeline\n",
    "import matplotlib.pyplot as plt\n",
    "from sklearn.metrics import mean_squared_error, r2_score, mean_absolute_error, mean_squared_log_error\n",
    "\n",
    "def PolynomialRegression(degree=2, **kwargs):\n",
    "    return make_pipeline(PolynomialFeatures(degree),\n",
    "                         LinearRegression(**kwargs))\n",
    "\n",
    "x=np.random.rand(100,1)\n",
    "\n",
    "y=5*x*x+0.1*np.random.randn(100,1) \n",
    "                            \n",
    "X_test=np.linspace(0,1,100)[:, None]\n",
    "\n",
    "model = PolynomialRegression(2)\n",
    "\n",
    "model.fit(x,y)\n",
    "\n",
    "y_test = model.predict(X_test)\n",
    "\n",
    "r2 = r2_score(model.predict(x),y)\n",
    "\n",
    "mse = mean_squared_error(model.predict(x), y)\n",
    "\n",
    "print (\"Ridge Mean Square Error: \",mse)\n",
    "print (\"Ridge R2-score: \",r2 )                                                                                                                \n",
    "print('Mean absolute error: %.2f' % mean_absolute_error(model.predict(x), y))\n",
    "print (\"------------------------------------\")\n",
    "plt.plot(X_test.ravel(), y_test, color='C1',label='y_model')\n",
    "plt.plot(x.ravel(), y, 'ro', label='y', color='C7')\n",
    "plt.xlabel(r'$x$') #Setter navn på x-akse\n",
    "plt.ylabel(r'$y$') \n",
    "plt.title(r'Linear Regression - 2.order polynomial')\n",
    "\n",
    "plt.legend()\n",
    "plt.show()"
   ]
  },
  {
   "cell_type": "code",
   "execution_count": null,
   "metadata": {},
   "outputs": [],
   "source": []
  }
 ],
 "metadata": {
  "hide_input": false,
  "kernelspec": {
   "display_name": "Python 3",
   "language": "python",
   "name": "python3"
  },
  "language_info": {
   "codemirror_mode": {
    "name": "ipython",
    "version": 3
   },
   "file_extension": ".py",
   "mimetype": "text/x-python",
   "name": "python",
   "nbconvert_exporter": "python",
   "pygments_lexer": "ipython3",
   "version": "3.7.5"
  },
  "toc": {
   "base_numbering": 1,
   "nav_menu": {},
   "number_sections": true,
   "sideBar": true,
   "skip_h1_title": false,
   "title_cell": "Table of Contents",
   "title_sidebar": "Contents",
   "toc_cell": false,
   "toc_position": {},
   "toc_section_display": true,
   "toc_window_display": false
  }
 },
 "nbformat": 4,
 "nbformat_minor": 2
}
